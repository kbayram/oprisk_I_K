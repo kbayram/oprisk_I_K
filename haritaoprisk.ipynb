{
  "nbformat": 4,
  "nbformat_minor": 0,
  "metadata": {
    "colab": {
      "provenance": [],
      "authorship_tag": "ABX9TyNM5KBh0HDIH5gWssuOXN0a",
      "include_colab_link": true
    },
    "kernelspec": {
      "name": "python3",
      "display_name": "Python 3"
    },
    "language_info": {
      "name": "python"
    }
  },
  "cells": [
    {
      "cell_type": "markdown",
      "metadata": {
        "id": "view-in-github",
        "colab_type": "text"
      },
      "source": [
        "<a href=\"https://colab.research.google.com/github/kbayram/oprisk_I_K/blob/main/haritaoprisk.ipynb\" target=\"_parent\"><img src=\"https://colab.research.google.com/assets/colab-badge.svg\" alt=\"Open In Colab\"/></a>"
      ]
    },
    {
      "cell_type": "code",
      "execution_count": null,
      "metadata": {
        "id": "fkrdRIQwsuhr"
      },
      "outputs": [],
      "source": []
    },
    {
      "cell_type": "markdown",
      "source": [
        "After struggling a couple of hours trying to install geopandas myself I came up with those simple command lines that eventually worked for me (geopandas seemed to be incompatible with my initial python 3.10 environement so I created a new one with python 3.8)\n",
        "\n",
        "In anaconda prompt run those lines:\n",
        "\n",
        "conda config --add channels conda-forge conda config --add channels defaults\n",
        "\n",
        "conda create --name name_of_your_environement python=3.8\n",
        "\n",
        "conda activate name_of_your_environement\n",
        "\n",
        "conda install -c conda-forge geopandas\n",
        "\n",
        "conda install spyder-kernels\n",
        "\n",
        "python -c \"import sys; print(sys.executable)\"\n",
        "\n",
        ", , , , , , , , , ,\n",
        "\n",
        "To do without reinstalling spyder in all environments follow official reference here.\n",
        "\n",
        "In summary (tested with conda):\n",
        "\n",
        "Spyder should be installed in the base environment From the system prompt:\n",
        "\n",
        "Create an new environment. Note that depending on how you create it (conda, virtualenv) the environment folder will be located at different place on your system)\n",
        "\n",
        "Activate the environment (e.g., conda activate [yourEnvName])\n",
        "\n",
        "Install spyder-kernels inside the environment (e.g., conda install spyder-kernels)\n",
        "\n",
        "Find and copy the path for the python executable inside the environment. Finding this path can be done using from the prompt this command python -c \"import sys; print(sys.executable)\"\n",
        "\n",
        "Deactivate the environment (i.e., return to base conda deactivate)\n",
        "\n",
        "run spyder (spyder3)\n",
        "\n",
        "Finally in spyder Tool menu go to Preferences > Python Interpreter > Use the following interpreter and paste the environment python executable path\n",
        "\n",
        "Restart the ipython console"
      ],
      "metadata": {
        "id": "VwSSuaZic01C"
      }
    }
  ]
}